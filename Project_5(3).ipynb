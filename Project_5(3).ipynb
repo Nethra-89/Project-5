{
  "nbformat": 4,
  "nbformat_minor": 0,
  "metadata": {
    "colab": {
      "provenance": []
    },
    "kernelspec": {
      "name": "python3",
      "display_name": "Python 3"
    },
    "language_info": {
      "name": "python"
    }
  },
  "cells": [
    {
      "cell_type": "code",
      "source": [
        "import pandas as pd\n",
        "from sklearn.preprocessing import StandardScaler\n",
        "from sklearn.svm import SVR\n",
        "from sklearn.linear_model import LinearRegression\n",
        "from sklearn.metrics import mean_squared_error,mean_absolute_error\n",
        "import matplotlib.pyplot as plt"
      ],
      "metadata": {
        "id": "HU5zo9vTWz4m"
      },
      "execution_count": 2,
      "outputs": []
    },
    {
      "cell_type": "markdown",
      "source": [
        "READ TWO DATASET AS TRAINING AND TESTING SETS"
      ],
      "metadata": {
        "id": "FolmiCNlV1Cz"
      }
    },
    {
      "cell_type": "code",
      "source": [
        "train_data = pd.read_csv(\"/content/p1_test (1).csv\",names=[\"f1\", \"f2\", \"target\"])\n",
        "test_data = pd.read_csv(\"/content/p1_train (1).csv\",names=[\"f1\", \"f2\", \"target\"])"
      ],
      "metadata": {
        "id": "_XXNs88PVooS"
      },
      "execution_count": 3,
      "outputs": []
    },
    {
      "cell_type": "markdown",
      "source": [
        "ASSIGNING VALUES OF COLUMNS OF DATAFRAME FOR PLOTTING"
      ],
      "metadata": {
        "id": "mgd41r-1V-lX"
      }
    },
    {
      "cell_type": "code",
      "source": [
        "#Training datasets\n",
        "X_train = train_data.iloc[:,:-1]\n",
        "y_train = train_data.iloc[:,-1]\n",
        "#X_train:This selects all the rows and all columns except the last one from train_data.It represents the feature variables used to train the model.\n",
        "#iloc[:, :-1]:This uses slicing to get all columns up to but not including the last one.\n",
        "#y_train:This selects all the rows and only the last column from train_data,which represents the target variable for training.\n",
        "#iloc[:, -1]:This selects the last column, which is typically the labels or target outcomes for the dataset.\n",
        "#Testing datasets\n",
        "X_test = test_data.iloc[:,:-1]\n",
        "y_test = test_data.iloc[:,-1]\n",
        "#X_test: This selects all rows and all columns except the last one from test_data. It represents the feature variables for testing the model's performance.\n",
        "#y_test: This selects all rows and only the last column from test_data, which is the target variable used to evaluate the model's predictions."
      ],
      "metadata": {
        "id": "lvt741VOVott"
      },
      "execution_count": 4,
      "outputs": []
    },
    {
      "cell_type": "markdown",
      "source": [
        "STANDARDIZING THEM TO SUIT WITH ML MODELS"
      ],
      "metadata": {
        "id": "e6ESYV74WelO"
      }
    },
    {
      "cell_type": "code",
      "source": [
        "#Using StandardScalar,the Features are Preprocessed\n",
        "sc = StandardScaler()\n",
        "#StandardScaler(): This creates an instance of StandardScaler, which will standardize the features by removing the mean and scaling them to unit variance.\n",
        "#It transforms the data such that each feature will have a mean of 0 and a standard deviation of 1.\n",
        "#Standardization is important when the features have different scales, which can negatively affect the performance of many machine learning algorithms.\n",
        "X_train = sc.fit_transform(X_train)\n",
        "#sc.fit_transform(X_train): This applies two steps:\n",
        "#fit(): Calculates the mean and standard deviation for each feature in the training data X_train.\n",
        "#transform(): Uses these calculated values to scale and transform the X_train data, so that each feature has a mean of 0 and a variance of 1.\n",
        "X_test = sc.transform(X_test)\n",
        "#sc.transform(X_test): This transforms the test data X_test using the mean and standard deviation calculated from the training data (i.e., it uses the parameters learned from fit_transform on X_train).\n",
        "#It ensures that the test data is scaled in the same way as the training data."
      ],
      "metadata": {
        "id": "zrFbB8xoWeOc"
      },
      "execution_count": 5,
      "outputs": []
    },
    {
      "cell_type": "code",
      "source": [
        "#EVALUATION OF LINEAR REGRESSION MODELS\n",
        "def linear_models(model):#model: This is a parameter that represents a linear regression model\n",
        "    mod=model.fit(X_train,y_train)\n",
        "    y_pred=mod.predict(X_test)\n",
        "    #model.fit(X_train, y_train): Trains the linear regression model using the training data (X_train for features and y_train for target values).\n",
        "    #fit method adjusts the model parameters to minimize the error on the training data.\n",
        "    #mod now represents the trained model.\n",
        "    #mod.predict(X_test): Uses the trained model to predict target values for the test data (X_test).\n",
        "    #y_pred contains the predicted values for the test set.\n",
        "    mse = mean_squared_error(y_test,y_pred)\n",
        "    mae= mean_absolute_error(y_test,y_pred)\n",
        "    #mean_squared_error(y_test, y_pred): Calculates the Mean Squared Error (MSE) between the true target values (y_test) and the predicted values (y_pred).\n",
        "    #MSE: Measures the average squared difference between the predicted and actual values. Lower values indicate better model performance.\n",
        "    #mean_absolute_error(y_test, y_pred): Calculates the Mean Absolute Error (MAE) between the true target values and the predicted values.\n",
        "    #MAE: Measures the average absolute difference between the predicted and actual values. Like MSE, lower values indicate better model performance, but MAE is less sensitive to outliers.\n",
        "    return mse,mae#The function returns the calculated Mean Squared Error and Mean Absolute Error for the given model."
      ],
      "metadata": {
        "id": "gPk5xyjOVoxR"
      },
      "execution_count": 6,
      "outputs": []
    },
    {
      "cell_type": "markdown",
      "source": [
        "PRINTING OF EVALUATION METRICS\n"
      ],
      "metadata": {
        "id": "h9mpyo4DWl18"
      }
    },
    {
      "cell_type": "code",
      "source": [
        "#List of MAE and MSE for plotting graph\n",
        "MSE=[]\n",
        "MAE=[]\n",
        "#MSE: A list to store the Mean Squared Error values for each model.\n",
        "#MAE: A list to store the Mean Absolute Error values for each model.\n",
        "#Model list\n",
        "model_list=[SVR(kernel=\"linear\",C=1.0),LinearRegression()]\n",
        "model_name_list=[\"Support Vector Regression\",\"Linear Regression\"]\n",
        "#model_list: Contains the models to be evaluated.\n",
        "#SVR(kernel=\"linear\", C=1.0): Support Vector Regression with a linear kernel.\n",
        "#LinearRegression(): A standard linear regression model.\n",
        "#model_name_list: Contains the corresponding names of the models for display purposes.\n",
        "print(\"                                    Evaluation Metrics\")\n",
        "#Prints a header to indicate the start of the evaluation metrics output.\n",
        "for model,model_name in zip(model_list,model_name_list):\n",
        "    mse,mae=linear_models(model)\n",
        "    MSE.append(mse)\n",
        "    MAE.append(mae)\n",
        "    print(f\"{model_name}:\")\n",
        "    print(\"   Mean Squared Error=\",round(mse,3))\n",
        "    print(\"   Mean Absolute Error=\",round(mae,3))\n",
        "    print(\"-------------------------------------------------------------------------------------------------------------------------\")\n",
        "    #zip(model_list, model_name_list): Pairs each model with its corresponding name for iteration.\n",
        "#linear_models(model): Calls the linear_models function (defined previously) for each model, which returns MSE and MAE.\n",
        "#MSE.append(mse): Adds the Mean Squared Error for the current model to the MSE list.\n",
        "#MAE.append(mae): Adds the Mean Absolute Error for the current model to the MAE list.\n",
        "#print(f\"{model_name}:\"): Prints the name of the model.\n",
        "#print(\" Mean Squared Error=\", round(mse, 3)): Prints the MSE value rounded to 3 decimal places.\n",
        "#print(\" Mean Absolute Error=\", round(mae, 3)): Prints the MAE value rounded to 3 decimal places.\n",
        "#print(\"-------------------------------------------------------------------------------------------------------------------------\"): Prints a line separator for readability."
      ],
      "metadata": {
        "colab": {
          "base_uri": "https://localhost:8080/"
        },
        "id": "Ki4Uk4yhWqF8",
        "outputId": "68575aed-ec0f-4228-9fa4-4c9b25fd8e3c"
      },
      "execution_count": 7,
      "outputs": [
        {
          "output_type": "stream",
          "name": "stdout",
          "text": [
            "                                    Evaluation Metrics\n",
            "Support Vector Regression:\n",
            "   Mean Squared Error= 5.068\n",
            "   Mean Absolute Error= 1.793\n",
            "-------------------------------------------------------------------------------------------------------------------------\n",
            "Linear Regression:\n",
            "   Mean Squared Error= 5.07\n",
            "   Mean Absolute Error= 1.794\n",
            "-------------------------------------------------------------------------------------------------------------------------\n"
          ]
        }
      ]
    },
    {
      "cell_type": "markdown",
      "source": [
        "PLOTTING OF EVALUATION METRICS"
      ],
      "metadata": {
        "id": "Hgnhy9OmWzyF"
      }
    },
    {
      "cell_type": "code",
      "source": [
        "#MSE graph\n",
        "plt.subplot(1,2,1)\n",
        "#plt.subplot(1, 2, 1): This sets up the first subplot in a grid of 1 row and 2 columns (i.e., 1x2 layout).\n",
        "The 1 indicates the first subplot in this grid.\n",
        "plt.bar([\"SVR\",\"LR\"],MSE,color=['blue','red'])\n",
        "plt.title(\"Mean Squared Error by Model\")\n",
        "plt.xlabel(\"Regression Models\")\n",
        "plt.ylabel(\"MSE\")\n",
        "#plt.bar([\"SVR\", \"LR\"], MSE, color=['blue', 'red']): Creates a bar chart with model names on the x-axis and MSE values on the y-axis.\n",
        "#[\"SVR\", \"LR\"]: Labels for the x-axis representing the two models.\n",
        "#MSE: Values for the MSE of the models.\n",
        "#color=['blue', 'red']: Colors the bars for SVR and LR in blue and red, respectively.\n",
        "#plt.title(\"Mean Squared Error by Model\"): Sets the title for this subplot.\n",
        "#plt.xlabel(\"Regression Models\"): Labels the x-axis.\n",
        "#plt.ylabel(\"MSE\"): Labels the y-axis.\n",
        "#MAE graph\n",
        "plt.subplot(1,2,2)\n",
        "plt.bar([\"SVR\",\"LR\"],MSE,color=['blue','orange'])\n",
        "plt.title(\"Mean Absolute Error by Model\")\n",
        "plt.xlabel(\"Regression Models\")\n",
        "plt.ylabel(\"MAE\")\n",
        "#plt.subplot(1, 2, 2): This sets up the second subplot in the 1x2 grid.\n",
        "#plt.bar([\"SVR\", \"LR\"], MAE, color=['blue', 'orange']): Creates a bar chart similar to the first, but for MAE values.\n",
        "#[\"SVR\", \"LR\"]: Labels for the x-axis.\n",
        "#MAE: Values for the MAE of the models.\n",
        "#color=['blue', 'orange']: Colors the bars in blue and orange, respectively.\n",
        "#plt.title(\"Mean Absolute Error by Model\"): Sets the title for this subplot.\n",
        "#plt.xlabel(\"Regression Models\"): Labels the x-axis.\n",
        "#plt.ylabel(\"MAE\"): Labels the y-axis.\n",
        "plt.tight_layout()\n",
        "plt.show()\n",
        "#plt.tight_layout(): Adjusts the spacing between subplots to fit them nicely within the figure area, avoiding overlap of elements.\n",
        "#plt.show(): Displays the plot."
      ],
      "metadata": {
        "colab": {
          "base_uri": "https://localhost:8080/",
          "height": 487
        },
        "id": "eri4MEx7W1R6",
        "outputId": "47bb17ac-7e02-4421-bfe0-acc2be6f2712"
      },
      "execution_count": 11,
      "outputs": [
        {
          "output_type": "display_data",
          "data": {
            "text/plain": [
              "<Figure size 640x480 with 2 Axes>"
            ],
            "image/png": "[encoded data removed]"
          },
          "metadata": {}
        }
      ]
    }
  ]
}